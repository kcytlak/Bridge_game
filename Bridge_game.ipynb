{
 "cells": [
  {
   "cell_type": "code",
   "execution_count": 24,
   "id": "3c58dc98",
   "metadata": {},
   "outputs": [
    {
     "name": "stdout",
     "output_type": "stream",
     "text": [
      "[[2, 'Club'], [2, 'Diamond'], [2, 'Heart'], [2, 'Spade'], [3, 'Club'], [3, 'Diamond'], [3, 'Heart'], [3, 'Spade'], [4, 'Club'], [4, 'Diamond'], [4, 'Heart'], [4, 'Spade'], [5, 'Club'], [5, 'Diamond'], [5, 'Heart'], [5, 'Spade'], [6, 'Club'], [6, 'Diamond'], [6, 'Heart'], [6, 'Spade'], [7, 'Club'], [7, 'Diamond'], [7, 'Heart'], [7, 'Spade'], [8, 'Club'], [8, 'Diamond'], [8, 'Heart'], [8, 'Spade'], [9, 'Club'], [9, 'Diamond'], [9, 'Heart'], [9, 'Spade'], [10, 'Club'], [10, 'Diamond'], [10, 'Heart'], [10, 'Spade'], [11, 'Club'], [11, 'Diamond'], [11, 'Heart'], [11, 'Spade'], [12, 'Club'], [12, 'Diamond'], [12, 'Heart'], [12, 'Spade'], [13, 'Club'], [13, 'Diamond'], [13, 'Heart'], [13, 'Spade'], [14, 'Club'], [14, 'Diamond'], [14, 'Heart'], [14, 'Spade']]\n"
     ]
    }
   ],
   "source": [
    "deck_of_cards = []\n",
    "\n",
    "for rank in range(2,15):\n",
    "    for suit in [\"Club\",\"Diamond\",\"Heart\",\"Spade\"]:\n",
    "        deck_of_cards.append([rank,suit])\n",
    "print(deck_of_cards)"
   ]
  },
  {
   "cell_type": "code",
   "execution_count": 25,
   "id": "de974f74",
   "metadata": {},
   "outputs": [],
   "source": [
    "import random"
   ]
  },
  {
   "cell_type": "code",
   "execution_count": 85,
   "id": "dc535286",
   "metadata": {},
   "outputs": [
    {
     "data": {
      "text/plain": [
       "list"
      ]
     },
     "execution_count": 85,
     "metadata": {},
     "output_type": "execute_result"
    }
   ],
   "source": [
    "def shuffling(deck):\n",
    "    shuffled_deck = []\n",
    "\n",
    "    for card in range(1,53):\n",
    "        shuffled_deck.append(random.choice(deck))\n",
    "    return shuffled_deck\n",
    "    print(shuffled_deck)\n",
    "\n",
    "shuffling(deck_of_cards)"
   ]
  },
  {
   "cell_type": "code",
   "execution_count": 105,
   "id": "2e3afbd7",
   "metadata": {},
   "outputs": [
    {
     "data": {
      "text/plain": [
       "{'North': [[11, 'Diamond'],\n",
       "  [3, 'Spade'],\n",
       "  [11, 'Spade'],\n",
       "  [5, 'Heart'],\n",
       "  [9, 'Club'],\n",
       "  [7, 'Spade'],\n",
       "  [14, 'Club'],\n",
       "  [6, 'Club'],\n",
       "  [8, 'Diamond'],\n",
       "  [13, 'Club'],\n",
       "  [10, 'Club'],\n",
       "  [2, 'Heart'],\n",
       "  [6, 'Club']],\n",
       " 'East': [[9, 'Spade'],\n",
       "  [10, 'Heart'],\n",
       "  [11, 'Heart'],\n",
       "  [9, 'Diamond'],\n",
       "  [5, 'Diamond'],\n",
       "  [9, 'Diamond'],\n",
       "  [6, 'Diamond'],\n",
       "  [4, 'Diamond'],\n",
       "  [8, 'Diamond'],\n",
       "  [5, 'Spade'],\n",
       "  [10, 'Spade'],\n",
       "  [4, 'Club'],\n",
       "  [3, 'Heart']],\n",
       " 'South': [[10, 'Heart'],\n",
       "  [5, 'Diamond'],\n",
       "  [14, 'Club'],\n",
       "  [7, 'Heart'],\n",
       "  [7, 'Spade'],\n",
       "  [7, 'Diamond'],\n",
       "  [5, 'Club'],\n",
       "  [10, 'Spade'],\n",
       "  [11, 'Club'],\n",
       "  [4, 'Spade'],\n",
       "  [7, 'Club'],\n",
       "  [8, 'Club'],\n",
       "  [12, 'Spade']],\n",
       " 'West': [[4, 'Club'],\n",
       "  [6, 'Diamond'],\n",
       "  [8, 'Spade'],\n",
       "  [5, 'Diamond'],\n",
       "  [12, 'Heart'],\n",
       "  [2, 'Spade'],\n",
       "  [10, 'Club'],\n",
       "  [11, 'Heart'],\n",
       "  [14, 'Club'],\n",
       "  [5, 'Club'],\n",
       "  [13, 'Heart'],\n",
       "  [5, 'Diamond'],\n",
       "  [14, 'Heart']]}"
      ]
     },
     "execution_count": 105,
     "metadata": {},
     "output_type": "execute_result"
    }
   ],
   "source": [
    "def Deal_cards(deck): \n",
    "    North = []\n",
    "    East = []\n",
    "    South = []\n",
    "    West = []\n",
    "    Players = {\"North\": North, \"East\": East, \"South\": South, \"West\": West}\n",
    "\n",
    "    for x in range(0,50,4):\n",
    "        North.append(deck[x])\n",
    "        East.append(deck[x+1])\n",
    "        South.append(deck[x+2])\n",
    "        West.append(deck[x+3])\n",
    "    return Players\n",
    "    print(Players)\n",
    "\n",
    "deal = Deal_cards(shuffling(deck_of_cards))\n",
    "deal"
   ]
  },
  {
   "cell_type": "code",
   "execution_count": 108,
   "id": "de37f4a9",
   "metadata": {},
   "outputs": [
    {
     "name": "stdout",
     "output_type": "stream",
     "text": [
      "Number of points player: 9, distribution: 6C, 2D, 2H, 3S\n",
      "Number of points player: 1, distribution: 1C, 6D, 3H, 3S\n",
      "Number of points player: 7, distribution: 5C, 2D, 2H, 4S\n",
      "Number of points player: 14, distribution: 4C, 3D, 4H, 2S\n"
     ]
    }
   ],
   "source": [
    "def High_card_count(player):\n",
    "    points, clubs, diamonds, hearts, spades = 0, 0, 0, 0, 0\n",
    "    suits = []\n",
    "    for number in range(0,13):\n",
    "        if player[number][0] == 14:\n",
    "            points += 4\n",
    "        if player[number][0] == 13:\n",
    "            points += 3\n",
    "        if player[number][0] == 12:\n",
    "            points += 2\n",
    "        if player[number][0] == 11:\n",
    "            points += 1\n",
    "        suits.append(player[number][1])\n",
    "    clubs = suits.count(\"Club\")\n",
    "    diamonds = suits.count(\"Diamond\")\n",
    "    hearts = suits.count(\"Heart\")\n",
    "    spades = suits.count(\"Spade\")\n",
    "    return print(\"Number of points player: {}, distribution: {}C, {}D, {}H, {}S\".format(points, clubs, diamonds, hearts, spades))\n",
    "        \n",
    "High_card_count(deal[\"North\"])\n",
    "High_card_count(deal[\"East\"])\n",
    "High_card_count(deal[\"South\"])\n",
    "High_card_count(deal[\"West\"])\n",
    "    \n",
    "# North[0][0]"
   ]
  },
  {
   "cell_type": "code",
   "execution_count": 109,
   "id": "41448b1e",
   "metadata": {},
   "outputs": [
    {
     "name": "stdout",
     "output_type": "stream",
     "text": [
      "[[11, 'Diamond'], [3, 'Spade'], [11, 'Spade'], [5, 'Heart'], [9, 'Club'], [7, 'Spade'], [14, 'Club'], [6, 'Club'], [8, 'Diamond'], [13, 'Club'], [10, 'Club'], [2, 'Heart'], [6, 'Club']]\n",
      "[[9, 'Spade'], [10, 'Heart'], [11, 'Heart'], [9, 'Diamond'], [5, 'Diamond'], [9, 'Diamond'], [6, 'Diamond'], [4, 'Diamond'], [8, 'Diamond'], [5, 'Spade'], [10, 'Spade'], [4, 'Club'], [3, 'Heart']]\n",
      "[[10, 'Heart'], [5, 'Diamond'], [14, 'Club'], [7, 'Heart'], [7, 'Spade'], [7, 'Diamond'], [5, 'Club'], [10, 'Spade'], [11, 'Club'], [4, 'Spade'], [7, 'Club'], [8, 'Club'], [12, 'Spade']]\n",
      "[[4, 'Club'], [6, 'Diamond'], [8, 'Spade'], [5, 'Diamond'], [12, 'Heart'], [2, 'Spade'], [10, 'Club'], [11, 'Heart'], [14, 'Club'], [5, 'Club'], [13, 'Heart'], [5, 'Diamond'], [14, 'Heart']]\n"
     ]
    }
   ],
   "source": [
    "print(deal[\"North\"])\n",
    "print(deal[\"East\"])\n",
    "print(deal[\"South\"])\n",
    "print(deal[\"West\"])"
   ]
  },
  {
   "cell_type": "code",
   "execution_count": 107,
   "id": "6fa5cc39",
   "metadata": {},
   "outputs": [
    {
     "ename": "KeyError",
     "evalue": "1",
     "output_type": "error",
     "traceback": [
      "\u001b[1;31m---------------------------------------------------------------------------\u001b[0m",
      "\u001b[1;31mKeyError\u001b[0m                                  Traceback (most recent call last)",
      "\u001b[1;32m~\\AppData\\Local\\Temp/ipykernel_19316/3198704130.py\u001b[0m in \u001b[0;36m<module>\u001b[1;34m\u001b[0m\n\u001b[1;32m----> 1\u001b[1;33m \u001b[0mdeal\u001b[0m\u001b[1;33m[\u001b[0m\u001b[1;36m1\u001b[0m\u001b[1;33m]\u001b[0m\u001b[1;33m\u001b[0m\u001b[1;33m\u001b[0m\u001b[0m\n\u001b[0m",
      "\u001b[1;31mKeyError\u001b[0m: 1"
     ]
    }
   ],
   "source": []
  },
  {
   "cell_type": "code",
   "execution_count": null,
   "id": "059f7284",
   "metadata": {},
   "outputs": [],
   "source": []
  }
 ],
 "metadata": {
  "kernelspec": {
   "display_name": "Python 3 (ipykernel)",
   "language": "python",
   "name": "python3"
  },
  "language_info": {
   "codemirror_mode": {
    "name": "ipython",
    "version": 3
   },
   "file_extension": ".py",
   "mimetype": "text/x-python",
   "name": "python",
   "nbconvert_exporter": "python",
   "pygments_lexer": "ipython3",
   "version": "3.9.5"
  }
 },
 "nbformat": 4,
 "nbformat_minor": 5
}
